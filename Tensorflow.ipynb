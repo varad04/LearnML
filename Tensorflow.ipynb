{
  "nbformat": 4,
  "nbformat_minor": 0,
  "metadata": {
    "colab": {
      "provenance": [],
      "authorship_tag": "ABX9TyPydmOc6MUoTVD3fRtUrPyN"
    },
    "kernelspec": {
      "name": "python3",
      "display_name": "Python 3"
    },
    "language_info": {
      "name": "python"
    }
  },
  "cells": [
    {
      "cell_type": "code",
      "execution_count": 1,
      "metadata": {
        "id": "4INfel6qKUGj"
      },
      "outputs": [],
      "source": [
        "import tensorflow as tf"
      ]
    },
    {
      "cell_type": "code",
      "source": [
        "print(tf.__version__)"
      ],
      "metadata": {
        "colab": {
          "base_uri": "https://localhost:8080/"
        },
        "id": "rJ7u3TYhKZyx",
        "outputId": "fb4cf167-ea97-436d-96ad-69938da19818"
      },
      "execution_count": 2,
      "outputs": [
        {
          "output_type": "stream",
          "name": "stdout",
          "text": [
            "2.12.0\n"
          ]
        }
      ]
    },
    {
      "cell_type": "code",
      "source": [
        "hello = tf.constant('Hello World')"
      ],
      "metadata": {
        "id": "FIDgQeusKbRI"
      },
      "execution_count": 3,
      "outputs": []
    },
    {
      "cell_type": "code",
      "source": [
        "type(hello)"
      ],
      "metadata": {
        "colab": {
          "base_uri": "https://localhost:8080/"
        },
        "id": "g0q0uLcOKeRh",
        "outputId": "d14e6306-0e7c-47b3-d05a-2a00561eb4e0"
      },
      "execution_count": 4,
      "outputs": [
        {
          "output_type": "execute_result",
          "data": {
            "text/plain": [
              "tensorflow.python.framework.ops.EagerTensor"
            ]
          },
          "metadata": {},
          "execution_count": 4
        }
      ]
    },
    {
      "cell_type": "code",
      "source": [
        "x = tf.constant(100)"
      ],
      "metadata": {
        "id": "RsgPrRrUKfvn"
      },
      "execution_count": 5,
      "outputs": []
    },
    {
      "cell_type": "code",
      "source": [
        "type(x)"
      ],
      "metadata": {
        "colab": {
          "base_uri": "https://localhost:8080/"
        },
        "id": "IY86qmXWKg_Q",
        "outputId": "9b67c9d0-2c1e-4b26-c9de-400e95fb08c7"
      },
      "execution_count": 6,
      "outputs": [
        {
          "output_type": "execute_result",
          "data": {
            "text/plain": [
              "tensorflow.python.framework.ops.EagerTensor"
            ]
          },
          "metadata": {},
          "execution_count": 6
        }
      ]
    },
    {
      "cell_type": "code",
      "source": [
        "x = tf.constant(2)\n",
        "y = tf.constant(3)"
      ],
      "metadata": {
        "id": "vlzZjsIQKiNG"
      },
      "execution_count": 8,
      "outputs": []
    },
    {
      "cell_type": "code",
      "source": [
        "print('Operations with Constants')\n",
        "print('Addition:', tf.add(x, y).numpy())\n",
        "print('Subtraction:', tf.subtract(x, y).numpy())\n",
        "print('Multiplication:', tf.multiply(x, y).numpy())\n",
        "print('Division:', tf.divide(x, y).numpy())"
      ],
      "metadata": {
        "colab": {
          "base_uri": "https://localhost:8080/"
        },
        "id": "XPfmIoxzKkyP",
        "outputId": "9314f914-49dd-4248-f21e-13c7b522f096"
      },
      "execution_count": 9,
      "outputs": [
        {
          "output_type": "stream",
          "name": "stdout",
          "text": [
            "Operations with Constants\n",
            "Addition: 5\n",
            "Subtraction: -1\n",
            "Multiplication: 6\n",
            "Division: 0.6666666666666666\n"
          ]
        }
      ]
    }
  ]
}